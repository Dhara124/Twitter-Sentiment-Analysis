# %% Import Libraries
import pandas as pd
import numpy as np
import seaborn as sns
import matplotlib.pyplot as plt
from wordcloud import WordCloud
import string
import nltk
from nltk.corpus import stopwords
from sklearn.feature_extraction.text import CountVectorizer
from sklearn.model_selection import train_test_split
from sklearn.naive_bayes import MultinomialNB
from sklearn.metrics import classification_report, confusion_matrix
from utils import load_dataset, visualize_missing_data, plot_histograms, message_cleaning

# %% Load Dataset
tweets_df = load_dataset('twitter.csv')

# %% Visualize Missing Data
visualize_missing_data(tweets_df)

# %% Plot Histograms
plot_histograms(tweets_df)

# %% WordCloud Visualization
sentences_as_one_string = " ".join(tweets_df['tweet'].tolist())
negative_list = " ".join(tweets_df[tweets_df['label'] == 1]['tweet'].tolist())
plt.figure(figsize=(20, 20))
plt.imshow(WordCloud().generate(sentences_as_one_string))
plt.imshow(WordCloud().generate(negative_list))

# %% Clean Tweets
tweets_df_clean = tweets_df['tweet'].apply(message_cleaning)

# %% Vectorize Data
vectorizer = CountVectorizer(analyzer=message_cleaning, dtype=np.uint8)
tweets_countvectorizer = vectorizer.fit_transform(tweets_df['tweet'])
X = pd.DataFrame(tweets_countvectorizer.toarray())
y = tweets_df['label']

# %% Train-Test Split
X_train, X_test, y_train, y_test = train_test_split(X, y, test_size=0.2)

# %% Train Naive Bayes Classifier
NB_classifier = MultinomialNB()
NB_classifier.fit(X_train, y_train)

# %% Evaluate Model
y_predict_test = NB_classifier.predict(X_test)
cm = confusion_matrix(y_test, y_predict_test)
sns.heatmap(cm, annot=True)
print(classification_report(y_test, y_predict_test))

